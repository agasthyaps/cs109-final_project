{
 "cells": [
  {
   "cell_type": "markdown",
   "metadata": {},
   "source": [
    "## Results, Conclusions, and Future Work"
   ]
  },
  {
   "cell_type": "markdown",
   "metadata": {},
   "source": [
    "The figure proposed in [Modeling](https://mraje16.github.io/cs109-final_project/modeling.html) summarizes the final algorithm we proposed to detect and classify the different stages of dementia. The strength of the result is that it can give a more thorough classification of MCI, and can be a single comprehensive test score to determine future course of treatment. The weakness of the test lies in the lack of a predictive ability, i.e. while it can classify the patient based on the current tests and other information, it cannot determine the prospective diagnosis over the coming months, which is a vital point of consideration especially for Alzheimer’s patients. \n",
    "\n",
    "**In future, we would have liked to conduct the following analyses:**\n",
    "1. We take longitudinal data into account and more thoroughly treat the decline or alleviation from/to Dementia of the same patient. This can possibly be done by creating polynomial features for the interactions between different test dates and then  creating a feature based on “months since baseline”. \n",
    "2. We can look the brain imaging data to determine if our created meta-test algorithm is able to predict the change in diagnosis over a fixed period of time. \n",
    "3. It will be interesting to determine which test most accurately correlates with the change in the  brain shape. \n",
    "4. We would like to use HCi/BCI as response variable and cognitive tests as predictor to understand which cog-test provides insight into which brain measurement."
   ]
  }
 ],
 "metadata": {
  "kernelspec": {
   "display_name": "Python 3",
   "language": "python",
   "name": "python3"
  },
  "language_info": {
   "codemirror_mode": {
    "name": "ipython",
    "version": 3
   },
   "file_extension": ".py",
   "mimetype": "text/x-python",
   "name": "python",
   "nbconvert_exporter": "python",
   "pygments_lexer": "ipython3",
   "version": "3.6.1"
  }
 },
 "nbformat": 4,
 "nbformat_minor": 2
}
